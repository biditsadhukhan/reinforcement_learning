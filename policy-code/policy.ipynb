{
 "cells": [
  {
   "cell_type": "markdown",
   "metadata": {},
   "source": [
    "# Policy Gradient \n",
    "- Name: Bidit Sadhukhan\n",
    "- Reg.No- B2230022\n",
    "- RL code assignment-2\n",
    "\n"
   ]
  },
  {
   "cell_type": "markdown",
   "metadata": {},
   "source": [
    "### Original Implementation"
   ]
  },
  {
   "cell_type": "code",
   "execution_count": 27,
   "metadata": {},
   "outputs": [],
   "source": [
    "import gym \n",
    "import numpy as np\n",
    "import matplotlib.pyplot as plt"
   ]
  },
  {
   "cell_type": "code",
   "execution_count": 28,
   "metadata": {},
   "outputs": [
    {
     "name": "stderr",
     "output_type": "stream",
     "text": [
      "c:\\Users\\BIDIT\\anaconda3\\Lib\\site-packages\\gym\\core.py:317: DeprecationWarning: \u001b[33mWARN: Initializing wrapper in old step API which returns one bool instead of two. It is recommended to set `new_step_api=True` to use new step API. This will be the default behaviour in future.\u001b[0m\n",
      "  deprecation(\n",
      "c:\\Users\\BIDIT\\anaconda3\\Lib\\site-packages\\gym\\wrappers\\step_api_compatibility.py:39: DeprecationWarning: \u001b[33mWARN: Initializing environment in old step API which returns one bool instead of two. It is recommended to set `new_step_api=True` to use new step API. This will be the default behaviour in future.\u001b[0m\n",
      "  deprecation(\n"
     ]
    }
   ],
   "source": [
    "env = gym.make('CartPole-v1')"
   ]
  },
  {
   "cell_type": "code",
   "execution_count": 29,
   "metadata": {},
   "outputs": [
    {
     "data": {
      "text/plain": [
       "Box([-4.8000002e+00 -3.4028235e+38 -4.1887903e-01 -3.4028235e+38], [4.8000002e+00 3.4028235e+38 4.1887903e-01 3.4028235e+38], (4,), float32)"
      ]
     },
     "execution_count": 29,
     "metadata": {},
     "output_type": "execute_result"
    }
   ],
   "source": [
    "env.observation_space"
   ]
  },
  {
   "cell_type": "code",
   "execution_count": 30,
   "metadata": {},
   "outputs": [
    {
     "data": {
      "text/plain": [
       "Discrete(2)"
      ]
     },
     "execution_count": 30,
     "metadata": {},
     "output_type": "execute_result"
    }
   ],
   "source": [
    "env.action_space"
   ]
  },
  {
   "cell_type": "code",
   "execution_count": 31,
   "metadata": {},
   "outputs": [],
   "source": [
    "import numpy as np\n",
    "\n",
    "class LogisticPolicy:\n",
    "    \n",
    "    def __init__(self, θ, α, γ):\n",
    "        # Initialize paramters θ, learning rate α and discount factor γ\n",
    "        \n",
    "        self.θ = θ\n",
    "        self.α = α\n",
    "        self.γ = γ\n",
    "        \n",
    "    def logistic(self, y):\n",
    "        # definition of logistic function\n",
    "        \n",
    "        return 1/(1 + np.exp(-y))\n",
    "    \n",
    "    def probs(self, x):\n",
    "        # returns probabilities of two actions\n",
    "        \n",
    "        y = x @ self.θ\n",
    "        prob0 = self.logistic(y)\n",
    "        \n",
    "        return np.array([prob0, 1-prob0])        \n",
    "    \n",
    "    def act(self, x):\n",
    "        # sample an action in proportion to probabilities\n",
    "        \n",
    "        probs = self.probs(x)\n",
    "        action = np.random.choice([0, 1], p=probs)\n",
    "        \n",
    "        return action, probs[action]\n",
    "\n",
    "    def grad_log_p(self, x):\n",
    "        # calculate grad-log-probs\n",
    "        \n",
    "        y = x @ self.θ        \n",
    "        grad_log_p0 = x - x*self.logistic(y)\n",
    "        grad_log_p1 = - x*self.logistic(y)\n",
    "        \n",
    "        return grad_log_p0, grad_log_p1\n",
    "        \n",
    "    def grad_log_p_dot_rewards(self, grad_log_p, actions, discounted_rewards):\n",
    "        # dot grads with future rewards for each action in episode\n",
    "        \n",
    "        return grad_log_p.T @ discounted_rewards\n",
    "    \n",
    "    def discount_rewards(self, rewards):\n",
    "        # calculate temporally adjusted, discounted rewards\n",
    "        \n",
    "        discounted_rewards = np.zeros(len(rewards))\n",
    "        cumulative_rewards = 0\n",
    "        for i in reversed(range(0, len(rewards))):\n",
    "            cumulative_rewards = cumulative_rewards * self.γ + rewards[i]\n",
    "            discounted_rewards[i] = cumulative_rewards\n",
    "            \n",
    "        return discounted_rewards\n",
    "\n",
    "    def update(self, rewards, obs, actions):\n",
    "        # calculate gradients for each action over all observations\n",
    "        grad_log_p = np.array([self.grad_log_p(ob)[action] for ob,action in zip(obs,actions)])\n",
    "        \n",
    "        assert grad_log_p.shape == (len(obs), 4)\n",
    "        \n",
    "        # calculate temporaly adjusted, discounted rewards\n",
    "        discounted_rewards = self.discount_rewards(rewards)\n",
    "        \n",
    "        # gradients times rewards\n",
    "        dot = self.grad_log_p_dot_rewards(grad_log_p, actions, discounted_rewards)\n",
    "        \n",
    "        # gradient ascent on parameters\n",
    "        self.θ += self.α*dot"
   ]
  },
  {
   "cell_type": "code",
   "execution_count": 32,
   "metadata": {},
   "outputs": [],
   "source": [
    "def run_episode(env, policy, render=False):\n",
    "    \n",
    "    observation = env.reset()\n",
    "    totalreward = 0\n",
    "    \n",
    "    observations = []\n",
    "    actions = []\n",
    "    rewards = []\n",
    "    probs = []\n",
    "    \n",
    "    done = False\n",
    "    \n",
    "    while not done:\n",
    "        if render:\n",
    "            env.render()\n",
    "        \n",
    "        observations.append(observation)\n",
    "        \n",
    "        action, prob = policy.act(observation)\n",
    "        observation, reward, done, info = env.step(action)\n",
    "        \n",
    "        totalreward += reward\n",
    "        rewards.append(reward)\n",
    "        actions.append(action)\n",
    "        probs.append(prob)\n",
    "    \n",
    "    return totalreward, np.array(rewards), np.array(observations), np.array(actions), np.array(probs)"
   ]
  },
  {
   "cell_type": "code",
   "execution_count": 33,
   "metadata": {},
   "outputs": [],
   "source": [
    "from gym.wrappers import RecordVideo\n",
    "def train(θ, α, γ, Policy, MAX_EPISODES=1000, seed=None, evaluate=False):\n",
    "    \n",
    "    # initialize environment and policy\n",
    "    env = gym.make('CartPole-v1')\n",
    "    if seed is not None:\n",
    "        env.seed(seed)\n",
    "    episode_rewards = []\n",
    "    policy = Policy(θ, α, γ)\n",
    "    \n",
    "    # train until MAX_EPISODES\n",
    "    for i in range(MAX_EPISODES):\n",
    "\n",
    "        # run a single episode\n",
    "        total_reward, rewards, observations, actions, probs = run_episode(env, policy)\n",
    "                \n",
    "        # keep track of episode rewards\n",
    "        episode_rewards.append(total_reward)\n",
    "        \n",
    "        # update policy\n",
    "        policy.update(rewards, observations, actions)\n",
    "        print(\"EP: \" + str(i) + \" Score: \" + str(total_reward) + \" \",end=\"\\r\", flush=False) \n",
    "\n",
    "    # evaluation call after training is finished - evaluate last trained policy on 100 episodes\n",
    "    if evaluate:\n",
    "        env = RecordVideo(env, 'pg_cartpole_original/')\n",
    "        for _ in range(100):\n",
    "            run_episode(env, policy, render=False)\n",
    "        env.env.close()\n",
    "        \n",
    "    return episode_rewards, policy"
   ]
  },
  {
   "cell_type": "code",
   "execution_count": 34,
   "metadata": {},
   "outputs": [
    {
     "name": "stderr",
     "output_type": "stream",
     "text": [
      "c:\\Users\\BIDIT\\anaconda3\\Lib\\site-packages\\gym\\core.py:256: DeprecationWarning: \u001b[33mWARN: Function `env.seed(seed)` is marked as deprecated and will be removed in the future. Please use `env.reset(seed=seed)` instead.\u001b[0m\n",
      "  deprecation(\n",
      "c:\\Users\\BIDIT\\anaconda3\\Lib\\site-packages\\gym\\utils\\passive_env_checker.py:241: DeprecationWarning: `np.bool8` is a deprecated alias for `np.bool_`.  (Deprecated NumPy 1.24)\n",
      "  if not isinstance(terminated, (bool, np.bool8)):\n"
     ]
    },
    {
     "name": "stdout",
     "output_type": "stream",
     "text": [
      "EP: 1999 Score: 500.0 \r"
     ]
    },
    {
     "name": "stderr",
     "output_type": "stream",
     "text": [
      "c:\\Users\\BIDIT\\anaconda3\\Lib\\site-packages\\gym\\wrappers\\monitoring\\video_recorder.py:78: DeprecationWarning: \u001b[33mWARN: Recording ability for environment CartPole-v1 initialized with `render_mode=None` is marked as deprecated and will be removed in the future.\u001b[0m\n",
      "  logger.deprecation(\n",
      "c:\\Users\\BIDIT\\anaconda3\\Lib\\site-packages\\gym\\core.py:43: DeprecationWarning: \u001b[33mWARN: The argument mode in render method is deprecated; use render_mode during environment initialization instead.\n",
      "See here for more information: https://www.gymlibrary.ml/content/api/\u001b[0m\n",
      "  deprecation(\n"
     ]
    }
   ],
   "source": [
    "# additional imports for saving and loading a trained policy\n",
    "# import Monitor, load_results\n",
    "\n",
    "# for reproducibility\n",
    "GLOBAL_SEED = 0\n",
    "np.random.seed(GLOBAL_SEED)\n",
    "\n",
    "episode_rewards, policy = train(θ=np.random.rand(4),\n",
    "                                α=0.002,\n",
    "                                γ=0.99,\n",
    "                                Policy=LogisticPolicy,\n",
    "                                MAX_EPISODES=2000,\n",
    "                                seed=GLOBAL_SEED,\n",
    "                                evaluate=True)"
   ]
  },
  {
   "cell_type": "code",
   "execution_count": 35,
   "metadata": {},
   "outputs": [
    {
     "name": "stdout",
     "output_type": "stream",
     "text": [
      "Variance: 30796.931847750002\n"
     ]
    }
   ],
   "source": [
    "print(\"Variance:\",np.var(episode_rewards))"
   ]
  },
  {
   "cell_type": "code",
   "execution_count": 36,
   "metadata": {},
   "outputs": [
    {
     "data": {
      "text/plain": [
       "[<matplotlib.lines.Line2D at 0x21bd7695990>]"
      ]
     },
     "execution_count": 36,
     "metadata": {},
     "output_type": "execute_result"
    },
    {
     "data": {
      "image/png": "[encoded data removed]",
      "text/plain": [
       "<Figure size 640x480 with 1 Axes>"
      ]
     },
     "metadata": {},
     "output_type": "display_data"
    }
   ],
   "source": [
    "%matplotlib inline\n",
    "import matplotlib.pyplot as plt\n",
    "\n",
    "plt.plot(episode_rewards)"
   ]
  },
  {
   "cell_type": "code",
   "execution_count": 13,
   "metadata": {},
   "outputs": [
    {
     "data": {
      "text/plain": [
       "['pg_cartpole\\\\rl-video-episode-0.mp4',\n",
       " 'pg_cartpole\\\\rl-video-episode-1.mp4',\n",
       " 'pg_cartpole\\\\rl-video-episode-27.mp4',\n",
       " 'pg_cartpole\\\\rl-video-episode-64.mp4',\n",
       " 'pg_cartpole\\\\rl-video-episode-8.mp4']"
      ]
     },
     "execution_count": 13,
     "metadata": {},
     "output_type": "execute_result"
    }
   ],
   "source": [
    "import glob\n",
    "\n",
    "files = glob.glob(f'pg_cartpole_original/rl-video-episode-*.mp4')\n",
    "\n",
    "files"
   ]
  },
  {
   "cell_type": "code",
   "execution_count": 14,
   "metadata": {},
   "outputs": [
    {
     "data": {
      "text/html": [
       "<video controls  >\n",
       " <source src=\"data:video/mp4;base64,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\" type=\"video/mp4\">\n",
       " Your browser does not support the video tag.\n",
       " </video>"
      ],
      "text/plain": [
       "<IPython.core.display.Video object>"
      ]
     },
     "execution_count": 14,
     "metadata": {},
     "output_type": "execute_result"
    }
   ],
   "source": [
    "from IPython.display import Video\n",
    "\n",
    "Video(files[0], embed=True)"
   ]
  },
  {
   "cell_type": "markdown",
   "metadata": {},
   "source": [
    "### My implementation \n",
    "- With Baseline Reduction\n",
    "- With Advantage Function"
   ]
  },
  {
   "cell_type": "code",
   "execution_count": 37,
   "metadata": {},
   "outputs": [
    {
     "name": "stdout",
     "output_type": "stream",
     "text": [
      "0.25.2\n"
     ]
    }
   ],
   "source": [
    "import gym\n",
    "print(gym.__version__)\n",
    "import numpy as np\n",
    "import matplotlib.pyplot as plt"
   ]
  },
  {
   "cell_type": "code",
   "execution_count": 38,
   "metadata": {},
   "outputs": [
    {
     "name": "stderr",
     "output_type": "stream",
     "text": [
      "c:\\Users\\BIDIT\\anaconda3\\Lib\\site-packages\\gym\\core.py:317: DeprecationWarning: \u001b[33mWARN: Initializing wrapper in old step API which returns one bool instead of two. It is recommended to set `new_step_api=True` to use new step API. This will be the default behaviour in future.\u001b[0m\n",
      "  deprecation(\n",
      "c:\\Users\\BIDIT\\anaconda3\\Lib\\site-packages\\gym\\wrappers\\step_api_compatibility.py:39: DeprecationWarning: \u001b[33mWARN: Initializing environment in old step API which returns one bool instead of two. It is recommended to set `new_step_api=True` to use new step API. This will be the default behaviour in future.\u001b[0m\n",
      "  deprecation(\n"
     ]
    }
   ],
   "source": [
    "env = gym.make('CartPole-v1')"
   ]
  },
  {
   "cell_type": "code",
   "execution_count": 39,
   "metadata": {},
   "outputs": [
    {
     "data": {
      "text/plain": [
       "Box([-4.8000002e+00 -3.4028235e+38 -4.1887903e-01 -3.4028235e+38], [4.8000002e+00 3.4028235e+38 4.1887903e-01 3.4028235e+38], (4,), float32)"
      ]
     },
     "execution_count": 39,
     "metadata": {},
     "output_type": "execute_result"
    }
   ],
   "source": [
    "env.observation_space"
   ]
  },
  {
   "cell_type": "code",
   "execution_count": 40,
   "metadata": {},
   "outputs": [
    {
     "data": {
      "text/plain": [
       "Discrete(2)"
      ]
     },
     "execution_count": 40,
     "metadata": {},
     "output_type": "execute_result"
    }
   ],
   "source": [
    "env.action_space"
   ]
  },
  {
   "cell_type": "code",
   "execution_count": 52,
   "metadata": {},
   "outputs": [],
   "source": [
    "class LogisticPolicy:\n",
    "    \n",
    "    def __init__(self, θ, α, γ):\n",
    "        # Initialize paramters θ, learning rate α and discount factor γ\n",
    "        \n",
    "        self.θ = θ\n",
    "        self.α = α\n",
    "        self.γ = γ\n",
    "        \n",
    "    def logistic(self, y):\n",
    "        # definition of logistic function\n",
    "        \n",
    "        return 1/(1 + np.exp(-y))\n",
    "    \n",
    "    def probs(self, x):\n",
    "        # returns probabilities of two actions\n",
    "        \n",
    "        y = x @ self.θ\n",
    "        prob0 = self.logistic(y)\n",
    "        \n",
    "        return np.array([prob0, 1-prob0])        \n",
    "    \n",
    "    def act(self, x):\n",
    "        # sample an action in proportion to probabilities\n",
    "        \n",
    "        probs = self.probs(x)\n",
    "        action = np.random.choice([0, 1], p=probs)\n",
    "        \n",
    "        return action, probs[action]\n",
    "\n",
    "    def grad_log_p(self, x):\n",
    "        # calculate grad-log-probs\n",
    "        \n",
    "        y = x @ self.θ        \n",
    "        grad_log_p0 = x - x*self.logistic(y)\n",
    "        grad_log_p1 = - x*self.logistic(y)\n",
    "        \n",
    "        return grad_log_p0, grad_log_p1\n",
    "        \n",
    "    def grad_log_p_dot_rewards(self, grad_log_p, actions, discounted_rewards):\n",
    "        # dot grads with future rewards for each action in episode\n",
    "        \n",
    "        return grad_log_p.T @ discounted_rewards\n",
    "    \n",
    "\n",
    "    def discount_rewards(self, rewards, obs):\n",
    "    # calculate temporally adjusted, discounted rewards with baseline adjustment\n",
    "\n",
    "        discounted_rewards = np.zeros(len(rewards))\n",
    "        cumulative_rewards = 0\n",
    "\n",
    "    # Calculate state values\n",
    "        state_values = self.get_state_values(obs)\n",
    "\n",
    "        for i in reversed(range(0, len(rewards))):\n",
    "            cumulative_rewards = cumulative_rewards * self.γ + rewards[i] - state_values[i]\n",
    "            discounted_rewards[i] = cumulative_rewards\n",
    "\n",
    "        return discounted_rewards\n",
    "\n",
    "    \n",
    "    def get_state_values(self, obs):\n",
    "        # Calculate state values using a linear function\n",
    "        # obs is a numpy array of observations\n",
    "        state_values = np.zeros(len(obs))\n",
    "        for i, ob in enumerate(obs):\n",
    "            state_values[i] = ob @ self.θ\n",
    "        return state_values\n",
    "\n",
    "    def update(self, rewards, obs, actions):\n",
    "        # calculate gradients for each action over all observations\n",
    "        grad_log_p = np.array([self.grad_log_p(ob)[action] for ob,action in zip(obs,actions)])\n",
    "        \n",
    "        assert grad_log_p.shape == (len(obs), 4)\n",
    "        \n",
    "        # calculate temporaly adjusted, discounted rewards\n",
    "        discounted_rewards = self.discount_rewards(rewards,obs)\n",
    "        \n",
    "        # gradients times rewards\n",
    "        dot = self.grad_log_p_dot_rewards(grad_log_p, actions, discounted_rewards)\n",
    "        \n",
    "        # gradient ascent on parameters\n",
    "        self.θ += self.α*dot\n"
   ]
  },
  {
   "cell_type": "code",
   "execution_count": 54,
   "metadata": {},
   "outputs": [],
   "source": [
    "def run_episode(env, policy, render=False):\n",
    "    \n",
    "    observation = env.reset()\n",
    "    totalreward = 0\n",
    "    \n",
    "    observations = []\n",
    "    actions = []\n",
    "    rewards = []\n",
    "    probs = []\n",
    "    \n",
    "    done = False\n",
    "    \n",
    "    while not done:\n",
    "        if render:\n",
    "            env.render()\n",
    "        \n",
    "        observations.append(observation)\n",
    "        \n",
    "        action, prob = policy.act(observation)\n",
    "        observation, reward, done, info = env.step(action)\n",
    "        \n",
    "        totalreward += reward\n",
    "        rewards.append(reward)\n",
    "        actions.append(action)\n",
    "        probs.append(prob)\n",
    "    \n",
    "    return totalreward, np.array(rewards), np.array(observations), np.array(actions), np.array(probs)"
   ]
  },
  {
   "cell_type": "code",
   "execution_count": 43,
   "metadata": {},
   "outputs": [],
   "source": [
    "from gym.wrappers import RecordVideo\n",
    "def train(θ, α, γ, Policy, MAX_EPISODES=1000, seed=None, evaluate=False):\n",
    "    \n",
    "    # initialize environment and policy\n",
    "    env = gym.make('CartPole-v1')\n",
    "    if seed is not None:\n",
    "        env.reset(seed=seed)\n",
    "    episode_rewards = []\n",
    "    policy = Policy(θ, α, γ)\n",
    "    \n",
    "    # train until MAX_EPISODES\n",
    "    for i in range(MAX_EPISODES):\n",
    "\n",
    "        # run a single episode\n",
    "        total_reward, rewards, observations, actions, probs = run_episode(env, policy)\n",
    "                \n",
    "        # keep track of episode rewards\n",
    "        episode_rewards.append(total_reward)\n",
    "        \n",
    "        # update policy\n",
    "        policy.update(rewards, observations, actions)\n",
    "        print(\"EP: \" + str(i) + \" Score: \" + str(total_reward) + \" \",end=\"\\r\", flush=False) \n",
    "\n",
    "    # evaluation call after training is finished - evaluate last trained policy on 100 episodes\n",
    "    if evaluate:\n",
    "        env = RecordVideo(env, 'pg_cartpole_mine/')\n",
    "        for _ in range(100):\n",
    "            run_episode(env, policy, render=False)\n",
    "        env.env.close()\n",
    "        \n",
    "    return episode_rewards, policy"
   ]
  },
  {
   "cell_type": "code",
   "execution_count": 55,
   "metadata": {},
   "outputs": [
    {
     "name": "stdout",
     "output_type": "stream",
     "text": [
      "EP: 1999 Score: 183.0 \r"
     ]
    }
   ],
   "source": [
    "# additional imports for saving and loading a trained policy\n",
    "# import Monitor, load_results\n",
    "\n",
    "# for reproducibility\n",
    "GLOBAL_SEED = 0\n",
    "np.random.seed(GLOBAL_SEED)\n",
    "\n",
    "episode_rewards_1, policy = train(θ=np.random.rand(4),\n",
    "                                α=0.002,\n",
    "                                γ=0.9,\n",
    "                                Policy=LogisticPolicy,\n",
    "                                MAX_EPISODES=2000,\n",
    "                                seed=GLOBAL_SEED,\n",
    "                                evaluate=True)"
   ]
  },
  {
   "cell_type": "code",
   "execution_count": 56,
   "metadata": {},
   "outputs": [
    {
     "name": "stdout",
     "output_type": "stream",
     "text": [
      "Variance: 12943.391319000002\n"
     ]
    }
   ],
   "source": [
    "print(\"Variance:\",np.var(episode_rewards_1))"
   ]
  },
  {
   "cell_type": "code",
   "execution_count": 58,
   "metadata": {},
   "outputs": [
    {
     "data": {
      "text/plain": [
       "[<matplotlib.lines.Line2D at 0x21bd92ba8d0>]"
      ]
     },
     "execution_count": 58,
     "metadata": {},
     "output_type": "execute_result"
    },
    {
     "data": {
      "image/png": "[encoded data removed]",
      "text/plain": [
       "<Figure size 640x480 with 1 Axes>"
      ]
     },
     "metadata": {},
     "output_type": "display_data"
    }
   ],
   "source": [
    "%matplotlib inline\n",
    "import matplotlib.pyplot as plt\n",
    "\n",
    "plt.plot(episode_rewards_1)"
   ]
  },
  {
   "cell_type": "code",
   "execution_count": 47,
   "metadata": {},
   "outputs": [
    {
     "data": {
      "text/plain": [
       "['pg_cartpole_mine\\\\rl-video-episode-0.mp4',\n",
       " 'pg_cartpole_mine\\\\rl-video-episode-1.mp4',\n",
       " 'pg_cartpole_mine\\\\rl-video-episode-27.mp4',\n",
       " 'pg_cartpole_mine\\\\rl-video-episode-64.mp4',\n",
       " 'pg_cartpole_mine\\\\rl-video-episode-8.mp4']"
      ]
     },
     "execution_count": 47,
     "metadata": {},
     "output_type": "execute_result"
    }
   ],
   "source": [
    "import glob\n",
    "\n",
    "files = glob.glob(f'pg_cartpole_mine/rl-video-episode-*.mp4')\n",
    "\n",
    "files"
   ]
  },
  {
   "cell_type": "code",
   "execution_count": 51,
   "metadata": {},
   "outputs": [
    {
     "data": {
      "text/html": [
       "<video controls  >\n",
       " <source src=\"data:video/mp4;base64,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\" type=\"video/mp4\">\n",
       " Your browser does not support the video tag.\n",
       " </video>"
      ],
      "text/plain": [
       "<IPython.core.display.Video object>"
      ]
     },
     "execution_count": 51,
     "metadata": {},
     "output_type": "execute_result"
    }
   ],
   "source": [
    "from IPython.display import Video\n",
    "\n",
    "Video(files[2], embed=True)"
   ]
  },
  {
   "cell_type": "markdown",
   "metadata": {},
   "source": [
    "#### With Advantage Function"
   ]
  },
  {
   "cell_type": "code",
   "execution_count": null,
   "metadata": {},
   "outputs": [],
   "source": [
    "import gym\n",
    "print(gym.__version__)\n",
    "import numpy as np\n",
    "import matplotlib.pyplot as plt"
   ]
  },
  {
   "cell_type": "code",
   "execution_count": null,
   "metadata": {},
   "outputs": [],
   "source": [
    "env = gym.make('CartPole-v1')"
   ]
  },
  {
   "cell_type": "code",
   "execution_count": null,
   "metadata": {},
   "outputs": [],
   "source": [
    "env.observation_space"
   ]
  },
  {
   "cell_type": "code",
   "execution_count": null,
   "metadata": {},
   "outputs": [],
   "source": [
    "env.action_space"
   ]
  },
  {
   "cell_type": "code",
   "execution_count": null,
   "metadata": {},
   "outputs": [],
   "source": [
    "class LogisticPolicy:\n",
    "    \n",
    "    def __init__(self, θ, α, γ):\n",
    "        # Initialize paramters θ, learning rate α and discount factor γ\n",
    "        \n",
    "        self.θ = θ\n",
    "        self.α = α\n",
    "        self.γ = γ\n",
    "        \n",
    "    def logistic(self, y):\n",
    "        # definition of logistic function\n",
    "        \n",
    "        return 1/(1 + np.exp(-y))\n",
    "    \n",
    "    def probs(self, x):\n",
    "        # returns probabilities of two actions\n",
    "        \n",
    "        y = x @ self.θ\n",
    "        prob0 = self.logistic(y)\n",
    "        \n",
    "        return np.array([prob0, 1-prob0])        \n",
    "    \n",
    "    def act(self, x):\n",
    "        # sample an action in proportion to probabilities\n",
    "        \n",
    "        probs = self.probs(x)\n",
    "        action = np.random.choice([0, 1], p=probs)\n",
    "        \n",
    "        return action, probs[action]\n",
    "\n",
    "    def grad_log_p(self, x):\n",
    "        # calculate grad-log-probs\n",
    "        \n",
    "        y = x @ self.θ        \n",
    "        grad_log_p0 = x - x*self.logistic(y)\n",
    "        grad_log_p1 = - x*self.logistic(y)\n",
    "        \n",
    "        return grad_log_p0, grad_log_p1\n",
    "        \n",
    "    def grad_log_p_dot_rewards(self, grad_log_p, actions, discounted_rewards):\n",
    "        # dot grads with future rewards for each action in episode\n",
    "        \n",
    "        return grad_log_p.T @ discounted_rewards\n",
    "    \n",
    "\n",
    "    def discount_rewards(self, rewards, obs):\n",
    "    # calculate temporally adjusted, discounted rewards with baseline adjustment\n",
    "\n",
    "        discounted_rewards = np.zeros(len(rewards))\n",
    "        cumulative_rewards = 0\n",
    "\n",
    "    # Calculate state values\n",
    "        state_values = self.get_state_values(obs)\n",
    "\n",
    "        for i in reversed(range(0, len(rewards))):\n",
    "            cumulative_rewards = cumulative_rewards * self.γ + rewards[i] - state_values[i]\n",
    "            discounted_rewards[i] = cumulative_rewards\n",
    "\n",
    "        return discounted_rewards\n",
    "\n",
    "    \n",
    "    def get_state_values(self, obs):\n",
    "        # Calculate state values using a linear function\n",
    "        # obs is a numpy array of observations\n",
    "        state_values = np.zeros(len(obs))\n",
    "        for i, ob in enumerate(obs):\n",
    "            state_values[i] = ob @ self.θ\n",
    "        return state_values\n",
    "\n",
    "    def update(self, rewards, obs, actions):\n",
    "        # calculate gradients for each action over all observations\n",
    "        grad_log_p = np.array([self.grad_log_p(ob)[action] for ob,action in zip(obs,actions)])\n",
    "        \n",
    "        assert grad_log_p.shape == (len(obs), 4)\n",
    "        \n",
    "        # calculate temporaly adjusted, discounted rewards\n",
    "        discounted_rewards = self.discount_rewards(rewards,obs)\n",
    "        \n",
    "        # gradients times rewards\n",
    "        dot = self.grad_log_p_dot_rewards(grad_log_p, actions, discounted_rewards)\n",
    "        \n",
    "        # gradient ascent on parameters\n",
    "        self.θ += self.α*dot\n"
   ]
  },
  {
   "cell_type": "code",
   "execution_count": null,
   "metadata": {},
   "outputs": [],
   "source": [
    "def run_episode(env, policy, render=False):\n",
    "    \n",
    "    observation = env.reset()\n",
    "    totalreward = 0\n",
    "    \n",
    "    observations = []\n",
    "    actions = []\n",
    "    rewards = []\n",
    "    probs = []\n",
    "    \n",
    "    done = False\n",
    "    \n",
    "    while not done:\n",
    "        if render:\n",
    "            env.render()\n",
    "        \n",
    "        observations.append(observation)\n",
    "        \n",
    "        action, prob = policy.act(observation)\n",
    "        observation, reward, done, info = env.step(action)\n",
    "        \n",
    "        totalreward += reward\n",
    "        rewards.append(reward)\n",
    "        actions.append(action)\n",
    "        probs.append(prob)\n",
    "    \n",
    "    return totalreward, np.array(rewards), np.array(observations), np.array(actions), np.array(probs)"
   ]
  },
  {
   "cell_type": "code",
   "execution_count": null,
   "metadata": {},
   "outputs": [],
   "source": [
    "from gym.wrappers import RecordVideo\n",
    "def train(θ, α, γ, Policy, MAX_EPISODES=1000, seed=None, evaluate=False):\n",
    "    \n",
    "    # initialize environment and policy\n",
    "    env = gym.make('CartPole-v1')\n",
    "    if seed is not None:\n",
    "        env.reset(seed=seed)\n",
    "    episode_rewards = []\n",
    "    policy = Policy(θ, α, γ)\n",
    "    \n",
    "    # train until MAX_EPISODES\n",
    "    for i in range(MAX_EPISODES):\n",
    "\n",
    "        # run a single episode\n",
    "        total_reward, rewards, observations, actions, probs = run_episode(env, policy)\n",
    "                \n",
    "        # keep track of episode rewards\n",
    "        episode_rewards.append(total_reward)\n",
    "        \n",
    "        # update policy\n",
    "        policy.update(rewards, observations, actions)\n",
    "        print(\"EP: \" + str(i) + \" Score: \" + str(total_reward) + \" \",end=\"\\r\", flush=False) \n",
    "\n",
    "    # evaluation call after training is finished - evaluate last trained policy on 100 episodes\n",
    "    if evaluate:\n",
    "        env = RecordVideo(env, 'pg_cartpole_mine_1/')\n",
    "        for _ in range(100):\n",
    "            run_episode(env, policy, render=False)\n",
    "        env.env.close()\n",
    "        \n",
    "    return episode_rewards, policy"
   ]
  },
  {
   "cell_type": "code",
   "execution_count": null,
   "metadata": {},
   "outputs": [],
   "source": [
    "# additional imports for saving and loading a trained policy\n",
    "# import Monitor, load_results\n",
    "\n",
    "# for reproducibility\n",
    "GLOBAL_SEED = 0\n",
    "np.random.seed(GLOBAL_SEED)\n",
    "\n",
    "episode_rewards_2, policy = train(θ=np.random.rand(4),\n",
    "                                α=0.002,\n",
    "                                γ=0.9,\n",
    "                                Policy=LogisticPolicy,\n",
    "                                MAX_EPISODES=2000,\n",
    "                                seed=GLOBAL_SEED,\n",
    "                                evaluate=True)"
   ]
  },
  {
   "cell_type": "code",
   "execution_count": null,
   "metadata": {},
   "outputs": [],
   "source": [
    "print(\"Variance:\",np.var(episode_rewards_2))"
   ]
  },
  {
   "cell_type": "code",
   "execution_count": null,
   "metadata": {},
   "outputs": [],
   "source": [
    "%matplotlib inline\n",
    "import matplotlib.pyplot as plt\n",
    "\n",
    "plt.plot(episode_rewards_2)"
   ]
  },
  {
   "cell_type": "code",
   "execution_count": null,
   "metadata": {},
   "outputs": [],
   "source": [
    "import glob\n",
    "\n",
    "files = glob.glob(f'pg_cartpole_mine/rl-video-episode-*.mp4')\n",
    "\n",
    "files"
   ]
  },
  {
   "cell_type": "code",
   "execution_count": null,
   "metadata": {},
   "outputs": [],
   "source": [
    "from IPython.display import Video\n",
    "\n",
    "Video(files[2], embed=True)"
   ]
  }
 ],
 "metadata": {
  "kernelspec": {
   "display_name": "base",
   "language": "python",
   "name": "python3"
  },
  "language_info": {
   "codemirror_mode": {
    "name": "ipython",
    "version": 3
   },
   "file_extension": ".py",
   "mimetype": "text/x-python",
   "name": "python",
   "nbconvert_exporter": "python",
   "pygments_lexer": "ipython3",
   "version": "3.11.5"
  }
 },
 "nbformat": 4,
 "nbformat_minor": 2
}
